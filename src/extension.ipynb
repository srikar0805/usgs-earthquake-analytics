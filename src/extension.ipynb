{
 "cells": [
  {
   "cell_type": "code",
   "execution_count": 1,
   "metadata": {},
   "outputs": [],
   "source": [
    "## Create an extension to the visualizations module that adds a new type of plot for finding the common earthquakes.\n"
   ]
  },
  {
   "cell_type": "code",
   "execution_count": 2,
   "metadata": {},
   "outputs": [
    {
     "name": "stderr",
     "output_type": "stream",
     "text": [
      "/Users/srikarreddy/anaconda3/lib/python3.11/site-packages/pandas/core/arrays/masked.py:61: UserWarning: Pandas requires version '1.3.6' or newer of 'bottleneck' (version '1.3.5' currently installed).\n",
      "  from pandas.core import (\n"
     ]
    },
    {
     "ename": "ModuleNotFoundError",
     "evalue": "No module named 'mlxtend'",
     "output_type": "error",
     "traceback": [
      "\u001b[0;31m---------------------------------------------------------------------------\u001b[0m",
      "\u001b[0;31mModuleNotFoundError\u001b[0m                       Traceback (most recent call last)",
      "Cell \u001b[0;32mIn[2], line 6\u001b[0m\n\u001b[1;32m      4\u001b[0m \u001b[38;5;28;01mimport\u001b[39;00m \u001b[38;5;21;01mnumpy\u001b[39;00m \u001b[38;5;28;01mas\u001b[39;00m \u001b[38;5;21;01mnp\u001b[39;00m\n\u001b[1;32m      5\u001b[0m \u001b[38;5;28;01mimport\u001b[39;00m \u001b[38;5;21;01mplotly\u001b[39;00m\u001b[38;5;21;01m.\u001b[39;00m\u001b[38;5;21;01mgraph_objects\u001b[39;00m \u001b[38;5;28;01mas\u001b[39;00m \u001b[38;5;21;01mgo\u001b[39;00m\n\u001b[0;32m----> 6\u001b[0m \u001b[38;5;28;01mfrom\u001b[39;00m \u001b[38;5;21;01mmlxtend\u001b[39;00m\u001b[38;5;21;01m.\u001b[39;00m\u001b[38;5;21;01mfrequent_patterns\u001b[39;00m \u001b[38;5;28;01mimport\u001b[39;00m apriori, association_rules\n\u001b[1;32m      7\u001b[0m \u001b[38;5;28;01mfrom\u001b[39;00m \u001b[38;5;21;01mmlxtend\u001b[39;00m\u001b[38;5;21;01m.\u001b[39;00m\u001b[38;5;21;01mpreprocessing\u001b[39;00m \u001b[38;5;28;01mimport\u001b[39;00m TransactionEncoder\n\u001b[1;32m      9\u001b[0m \u001b[38;5;66;03m# import os\u001b[39;00m\n\u001b[1;32m     10\u001b[0m \u001b[38;5;66;03m# print(os.listdir(\"data\"))\u001b[39;00m\n\u001b[1;32m     11\u001b[0m \n\u001b[1;32m     12\u001b[0m \u001b[38;5;66;03m# 📂 Load GeoJSON\u001b[39;00m\n",
      "\u001b[0;31mModuleNotFoundError\u001b[0m: No module named 'mlxtend'"
     ]
    }
   ],
   "source": [
    "# 📦 Imports\n",
    "import json\n",
    "import pandas as pd\n",
    "import numpy as np\n",
    "import plotly.graph_objects as go\n",
    "from mlxtend.frequent_patterns import apriori, association_rules\n",
    "from mlxtend.preprocessing import TransactionEncoder\n",
    "\n",
    "# import os\n",
    "# print(os.listdir(\"data\"))\n",
    "\n",
    "# 📂 Load GeoJSON\n",
    "with open(\"../data/GeoQuake.json\") as f:\n",
    "    data = json.load(f)\n",
    "\n",
    "# 📊 Parse into DataFrame\n",
    "records = []\n",
    "for feature in data[\"features\"]:\n",
    "    props = feature.get(\"properties\", {})\n",
    "    coords = feature.get(\"geometry\", {}).get(\"coordinates\", [None, None, None])\n",
    "    products = props.get(\"products\", {})\n",
    "\n",
    "    try:\n",
    "        record = {\n",
    "            \"time\": pd.to_datetime(props.get(\"time\"), unit=\"ms\", errors=\"coerce\"),\n",
    "            \"updated\": pd.to_datetime(props.get(\"updated\"), unit=\"ms\", errors=\"coerce\"),\n",
    "            \"latitude\": round(coords[1], 1) if coords[1] is not None else None,\n",
    "            \"longitude\": round(coords[0], 1) if coords[0] is not None else None,\n",
    "            \"depth\": coords[2],\n",
    "            \"mag\": props.get(\"mag\"),\n",
    "            \"felt\": props.get(\"felt\"),\n",
    "            \"cdi\": props.get(\"cdi\"),\n",
    "            \"mmi\": props.get(\"mmi\"),\n",
    "            \"rms\": props.get(\"rms\"),\n",
    "            \"gap\": props.get(\"gap\"),\n",
    "            \"dmin\": props.get(\"dmin\"),\n",
    "            \"nst\": props.get(\"nst\"),\n",
    "            \"sig\": props.get(\"sig\"),\n",
    "            \"tsunami\": props.get(\"tsunami\"),\n",
    "            \"place\": props.get(\"place\"),\n",
    "            \"status\": props.get(\"status\"),\n",
    "            \"alert\": props.get(\"alert\"),\n",
    "            \"net\": props.get(\"net\"),\n",
    "            \"code\": props.get(\"code\"),\n",
    "            \"magType\": props.get(\"magType\"),\n",
    "            \"type\": props.get(\"type\"),\n",
    "            \"ids\": props.get(\"ids\"),\n",
    "            \"sources\": props.get(\"sources\"),\n",
    "            \"types\": props.get(\"types\"),\n",
    "            \"has_shakemap\": \"shakemap\" in products,\n",
    "            \"has_moment_tensor\": \"moment-tensor\" in products,\n",
    "            \"has_focal_mechanism\": \"focal-mechanism\" in products\n",
    "        }\n",
    "        records.append(record)\n",
    "    except Exception:\n",
    "        continue\n",
    "\n",
    "df = pd.DataFrame(records)\n",
    "df = df.dropna(subset=[\"latitude\", \"longitude\", \"time\"])\n",
    "df[\"date\"] = df[\"time\"].dt.date\n",
    "df[\"location_id\"] = df[\"latitude\"].astype(str) + \",\" + df[\"longitude\"].astype(str)\n",
    "\n",
    "# 🧱 Create daily transactions: list of locations per day\n",
    "daily_events = df.groupby(\"date\")[\"location_id\"].apply(list).tolist()\n",
    "\n",
    "# 🔄 Encode transactions\n",
    "te = TransactionEncoder()\n",
    "te_ary = te.fit(daily_events).transform(daily_events)\n",
    "df_encoded = pd.DataFrame(te_ary, columns=te.columns_)\n",
    "\n",
    "# 📈 Mine frequent itemsets\n",
    "frequent_itemsets = apriori(df_encoded, min_support=0.01, use_colnames=True)\n",
    "\n",
    "# 🔗 Generate association rules\n",
    "rules = association_rules(frequent_itemsets, metric=\"confidence\", min_threshold=0.8)\n",
    "rules = rules[rules[\"antecedents\"].apply(lambda x: len(x) == 1)]\n",
    "rules = rules[rules[\"consequents\"].apply(lambda x: len(x) == 1)]\n",
    "\n",
    "# 🧹 Extract A → B pairs\n",
    "def extract_coords(location_str):\n",
    "    lat, lon = map(float, location_str.split(\",\"))\n",
    "    return lat, lon\n",
    "\n",
    "rules[\"A\"] = rules[\"antecedents\"].apply(lambda x: list(x)[0])\n",
    "rules[\"B\"] = rules[\"consequents\"].apply(lambda x: list(x)[0])\n",
    "rules[\"A_lat\"], rules[\"A_lon\"] = zip(*rules[\"A\"].map(extract_coords))\n",
    "rules[\"B_lat\"], rules[\"B_lon\"] = zip(*rules[\"B\"].map(extract_coords))\n",
    "\n",
    "# 🌍 Plot on world map\n",
    "fig = go.Figure()\n",
    "\n",
    "for _, row in rules.iterrows():\n",
    "    fig.add_trace(go.Scattergeo(\n",
    "        lon=[row[\"A_lon\"], row[\"B_lon\"]],\n",
    "        lat=[row[\"A_lat\"], row[\"B_lat\"]],\n",
    "        mode=\"lines+markers\",\n",
    "        line=dict(width=1.5, color=\"red\"),\n",
    "        marker=dict(size=4),\n",
    "        hoverinfo=\"text\",\n",
    "        text=f\"{row['A']} → {row['B']}<br>Conf: {row['confidence']:.2f}, Supp: {row['support']:.2f}\"\n",
    "    ))\n",
    "\n",
    "fig.update_layout(\n",
    "    title=\"Frequent Earthquake Co-Occurrence Pairs (A → B)\",\n",
    "    geo=dict(\n",
    "        projection_type=\"natural earth\",\n",
    "        showland=True,\n",
    "        landcolor=\"rgb(217, 217, 217)\",\n",
    "        showcountries=True,\n",
    "    ),\n",
    "    height=600\n",
    ")\n",
    "\n",
    "fig.show()"
   ]
  },
  {
   "cell_type": "code",
   "execution_count": 1,
   "metadata": {},
   "outputs": [
    {
     "name": "stdout",
     "output_type": "stream",
     "text": [
      "Requirement already satisfied: mlxtend in /opt/anaconda3/lib/python3.13/site-packages (0.23.4)\n",
      "Requirement already satisfied: scipy>=1.2.1 in /opt/anaconda3/lib/python3.13/site-packages (from mlxtend) (1.15.3)\n",
      "Requirement already satisfied: numpy>=1.16.2 in /opt/anaconda3/lib/python3.13/site-packages (from mlxtend) (2.1.3)\n",
      "Requirement already satisfied: pandas>=0.24.2 in /opt/anaconda3/lib/python3.13/site-packages (from mlxtend) (2.2.3)\n",
      "Requirement already satisfied: scikit-learn>=1.3.1 in /opt/anaconda3/lib/python3.13/site-packages (from mlxtend) (1.6.1)\n",
      "Requirement already satisfied: matplotlib>=3.0.0 in /opt/anaconda3/lib/python3.13/site-packages (from mlxtend) (3.10.0)\n",
      "Requirement already satisfied: joblib>=0.13.2 in /opt/anaconda3/lib/python3.13/site-packages (from mlxtend) (1.4.2)\n",
      "Requirement already satisfied: contourpy>=1.0.1 in /opt/anaconda3/lib/python3.13/site-packages (from matplotlib>=3.0.0->mlxtend) (1.3.1)\n",
      "Requirement already satisfied: cycler>=0.10 in /opt/anaconda3/lib/python3.13/site-packages (from matplotlib>=3.0.0->mlxtend) (0.11.0)\n",
      "Requirement already satisfied: fonttools>=4.22.0 in /opt/anaconda3/lib/python3.13/site-packages (from matplotlib>=3.0.0->mlxtend) (4.55.3)\n",
      "Requirement already satisfied: kiwisolver>=1.3.1 in /opt/anaconda3/lib/python3.13/site-packages (from matplotlib>=3.0.0->mlxtend) (1.4.8)\n",
      "Requirement already satisfied: packaging>=20.0 in /opt/anaconda3/lib/python3.13/site-packages (from matplotlib>=3.0.0->mlxtend) (24.2)\n",
      "Requirement already satisfied: pillow>=8 in /opt/anaconda3/lib/python3.13/site-packages (from matplotlib>=3.0.0->mlxtend) (11.1.0)\n",
      "Requirement already satisfied: pyparsing>=2.3.1 in /opt/anaconda3/lib/python3.13/site-packages (from matplotlib>=3.0.0->mlxtend) (3.2.0)\n",
      "Requirement already satisfied: python-dateutil>=2.7 in /opt/anaconda3/lib/python3.13/site-packages (from matplotlib>=3.0.0->mlxtend) (2.9.0.post0)\n",
      "Requirement already satisfied: pytz>=2020.1 in /opt/anaconda3/lib/python3.13/site-packages (from pandas>=0.24.2->mlxtend) (2024.1)\n",
      "Requirement already satisfied: tzdata>=2022.7 in /opt/anaconda3/lib/python3.13/site-packages (from pandas>=0.24.2->mlxtend) (2025.2)\n",
      "Requirement already satisfied: six>=1.5 in /opt/anaconda3/lib/python3.13/site-packages (from python-dateutil>=2.7->matplotlib>=3.0.0->mlxtend) (1.17.0)\n",
      "Requirement already satisfied: threadpoolctl>=3.1.0 in /opt/anaconda3/lib/python3.13/site-packages (from scikit-learn>=1.3.1->mlxtend) (3.5.0)\n"
     ]
    }
   ],
   "source": [
    "!pip install mlxtend"
   ]
  },
  {
   "cell_type": "code",
   "execution_count": null,
   "metadata": {},
   "outputs": [],
   "source": []
  }
 ],
 "metadata": {
  "kernelspec": {
   "display_name": "Python 3 (ipykernel)",
   "language": "python",
   "name": "python3"
  },
  "language_info": {
   "codemirror_mode": {
    "name": "ipython",
    "version": 3
   },
   "file_extension": ".py",
   "mimetype": "text/x-python",
   "name": "python",
   "nbconvert_exporter": "python",
   "pygments_lexer": "ipython3",
   "version": "3.11.5"
  }
 },
 "nbformat": 4,
 "nbformat_minor": 2
}
